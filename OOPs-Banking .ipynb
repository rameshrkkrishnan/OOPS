{
 "cells": [
  {
   "cell_type": "markdown",
   "id": "b1e507ea-0e40-4694-b218-2955e55a714b",
   "metadata": {},
   "source": [
    "Write a python program to replicate a Banking system. The following features are mandatory:\n",
    "1. Account login\n",
    "2. Amount Depositing\n",
    "3. Amount Withdrawal\n",
    "Other than the above features you can add any other also."
   ]
  },
  {
   "cell_type": "code",
   "execution_count": 10,
   "id": "8fcda18c-1509-4040-88a1-5da6fb58781d",
   "metadata": {},
   "outputs": [
    {
     "name": "stdout",
     "output_type": "stream",
     "text": [
      "Deposit successful. New balance: 10200\n",
      "Withdrawal successful. New balance: 9500\n",
      "Name: Steve Robins, Account number: 7655894322\n",
      "Your balance is: 9500\n"
     ]
    }
   ],
   "source": [
    "class BankAccount:\n",
    "    def __init__(self, name, acc_number, balance):\n",
    "        self.__name = name\n",
    "        self.__acc_number = acc_number\n",
    "        if balance > 0:\n",
    "            self.__balance = balance\n",
    "        else:\n",
    "            raise ValueError(\"Initial balance cannot be negative\")\n",
    "    def get_name(self):\n",
    "        return self.__name\n",
    "    def get_acc_number(self):\n",
    "        return self.acc_number\n",
    "    def get_balance(self):\n",
    "        return self.__balance\n",
    "    def display(self):\n",
    "        print(f\"Name: {self.__name}, Account number: {self.__acc_number}\")\n",
    "    def deposit(self,amount):\n",
    "        if amount > 0:\n",
    "            self.__balance+= amount\n",
    "            print(f\"Deposit successful. New balance: {self.__balance}\")\n",
    "        else:\n",
    "            print(\"Deposit amount must be positive\")\n",
    "    def withdraw(self, amount):\n",
    "        if amount <= 0:\n",
    "            print(\"Withdrawal amount must be greater than zero.\")\n",
    "        elif amount > self.__balance:\n",
    "            print(f\"Insufficient balance. Your balance is {self.__balance}\")\n",
    "        else:\n",
    "            self.__balance -= amount\n",
    "            print(f\"Withdrawal successful. New balance: {self.__balance}\")\n",
    "            \n",
    "# Example usage\n",
    "try:\n",
    "# Creating an account with valid details\n",
    "    acc = BankAccount(\"Steve Robins\", 7655894322, 7200)\n",
    "# Performing some transactions\n",
    "    acc.deposit(3000) # Deposit money\n",
    "    acc.withdraw(700) # Withdraw money\n",
    "# Display account details (excluding balance)\n",
    "    acc.display()\n",
    "# To check the balance securely\n",
    "    print(f\"Your balance is: {acc.get_balance()}\")\n",
    "except ValueError as ve:\n",
    "    print(ve)"
   ]
  },
  {
   "cell_type": "code",
   "execution_count": null,
   "id": "8033ab14-ee79-4c74-9e72-0ef6df16ae21",
   "metadata": {},
   "outputs": [],
   "source": []
  }
 ],
 "metadata": {
  "kernelspec": {
   "display_name": "Python 3 (ipykernel)",
   "language": "python",
   "name": "python3"
  },
  "language_info": {
   "codemirror_mode": {
    "name": "ipython",
    "version": 3
   },
   "file_extension": ".py",
   "mimetype": "text/x-python",
   "name": "python",
   "nbconvert_exporter": "python",
   "pygments_lexer": "ipython3",
   "version": "3.12.4"
  }
 },
 "nbformat": 4,
 "nbformat_minor": 5
}
